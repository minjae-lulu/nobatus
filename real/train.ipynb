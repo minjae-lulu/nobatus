{
 "cells": [
  {
   "cell_type": "code",
   "execution_count": 1,
   "id": "7f30dbd3",
   "metadata": {},
   "outputs": [
    {
     "ename": "SyntaxError",
     "evalue": "invalid syntax (3687982853.py, line 2)",
     "output_type": "error",
     "traceback": [
      "\u001b[0;36m  Cell \u001b[0;32mIn[1], line 2\u001b[0;36m\u001b[0m\n\u001b[0;31m    pip install torch\u001b[0m\n\u001b[0m        ^\u001b[0m\n\u001b[0;31mSyntaxError\u001b[0m\u001b[0;31m:\u001b[0m invalid syntax\n"
     ]
    }
   ],
   "source": [
    "# torch 가 설치되어 있지 않을시 설치해주셔야 합니다.\n",
    "pip install torch"
   ]
  },
  {
   "cell_type": "code",
   "execution_count": null,
   "id": "2b68a1e1",
   "metadata": {},
   "outputs": [],
   "source": [
    "pip install torchsummary"
   ]
  },
  {
   "cell_type": "code",
   "execution_count": null,
   "id": "a21363e4",
   "metadata": {},
   "outputs": [],
   "source": []
  },
  {
   "cell_type": "code",
   "execution_count": 42,
   "id": "a7c9899f",
   "metadata": {},
   "outputs": [],
   "source": [
    "import os\n",
    "import numpy as np\n",
    "import torch\n",
    "import torch.nn as nn\n",
    "from torch.utils.data import Dataset, DataLoader"
   ]
  },
  {
   "cell_type": "code",
   "execution_count": null,
   "id": "404d6410",
   "metadata": {},
   "outputs": [],
   "source": []
  },
  {
   "cell_type": "code",
   "execution_count": 43,
   "id": "2256d0d3",
   "metadata": {},
   "outputs": [],
   "source": [
    "        # 저는 아래의 self.foler_list, label_dick 코드 두줄로 코드를 실행하셨지만, 실제는 이를 주석처리하고 아래의 두줄 코드를 사용하여 하셔야 합니다!\n",
    "        # 아래에 2001번 코드가 겹쳐서, 우선 통합하여서, 96번이 마지막 label이 되도록 하였습니다. 그래서 class는 총 96개입니다. \n",
    "        \n",
    "#         self.folder_list = ['1201', '2502', '1208', '1001', '1205', '1002', '1109', '1005', '1007', '1009', '1011', '1012', '1013', '1014', '1015', '1019', '1020', '1023', '1024', '1025', '1102', '1103', '1104', '1105', '1108', '1110', '1111', '1115', '1116', '1202', '1203', '1204', '1206', '1207', '8503', '4302', '1301', '1302', '1304', '1305', '1306', '1307', '1308', '1310', '8504', '1401', '1402', '1501', '1601', '1603', '1604', '1606', '1607', '1803', '1901', '2102', '2202', '2301', '2302', '2501', '3002', '3006', '3014', '3015', '4003', '4004', '4006', '4007', '4008', '4009', '4010', '4011', '4102', '4202', '4204', '4501', '5001', '5002', '8001', '8002', '8502', '8508', '8601', '9001', '9109', '9206', '9402', '3013', '1004', '1107', '8509', '1303', '3007', '2001', '1602', '4601']\n",
    "#         self.label_dict = {'1201': 1, '2502': 2, '1208': 3, '1001': 4, '1205': 5, '1002': 6, '1109': 7, '1005': 8, '1007': 9, '1009': 10, '1011': 11, '1012': 12, '1013': 13, '1014': 14, '1015': 15, '1019': 16, '1020': 17, '1023': 18, '1024': 19, '1025': 20, '1102': 21, '1103': 22, '1104': 23, '1105': 24, '1108': 25, '1110': 26, '1111': 27, '1115': 28, '1116': 29, '1202': 30, '1203': 31, '1204': 32, '1206': 33, '1207': 34, '8503': 35, '4302': 36, '1301': 37, '1302': 38, '1304': 39, '1305': 40, '1306': 41, '1307': 42, '1308': 43, '1310': 44, '8504': 45, '1401': 46, '1402': 47, '1501': 48, '1601': 49, '1603': 50, '1604': 51, '1606': 52, '1607': 53, '1803': 54, '1901': 55, '2102': 56, '2202': 57, '2301': 58, '2302': 59, '2501': 60, '3002': 61, '3006': 62, '3014': 63, '3015': 64, '4003': 65, '4004': 66, '4006': 67, '4007': 68, '4008': 69, '4009': 70, '4010': 71, '4011': 72, '4102': 73, '4202': 74, '4204': 75, '4501': 76, '5001': 77, '5002': 78, '8001': 79, '8002': 80, '8502': 81, '8508': 82, '8601': 83, '9001': 84, '9109': 85, '9206': 86, '9402': 87, '3013': 88, '1004': 89, '1107': 90, '8509': 91, '1303': 92, '3007': 93, '2001': 94, '1602': 95, '4601': 96}\n",
    "\n",
    "\n",
    "#         self.label_dict 을 아래의 것으로 해야합니다\n",
    "#         self.label_dict = {'1201': 0, '2502': 1, '1208': 2, '1001': 3, '1205': 4, '1002': 5, '1109': 6, '1005': 7, '1007': 8, '1009': 9, '1011': 10, '1012': 11, '1013': 12, '1014': 13, '1015': 14, '1019': 15, '1020': 16, '1023': 17, '1024': 18, '1025': 19, '1102': 20, '1103': 21, '1104': 22, '1105': 23, '1108': 24, '1110': 25, '1111': 26, '1115': 27, '1116': 28, '1202': 29, '1203': 30, '1204': 31, '1206': 32, '1207': 33, '8503': 34, '4302': 35, '1301': 36, '1302': 37, '1304': 38, '1305': 39, '1306': 40, '1307': 41, '1308': 42, '1310': 43, '8504': 44, '1401': 45, '1402': 46, '1501': 47, '1601': 48, '1603': 49, '1604': 50, '1606': 51, '1607': 52, '1803': 53, '1901': 54, '2102': 55, '2202': 56, '2301': 57, '2302': 58, '2501': 59, '3002': 60, '3006': 61, '3014': 62, '3015': 63, '4003': 64, '4004': 65, '4006': 66, '4007': 67, '4008': 68, '4009': 69, '4010': 70, '4011': 71, '4102': 72, '4202': 73, '4204': 74, '4501': 75, '5001': 76, '5002': 77, '8001': 78, '8002': 79, '8502': 80, '8508': 81, '8601': 82, '9001': 83, '9109': 84, '9206': 85, '9402': 86, '3013': 87, '1004': 88, '1107': 89, '8509': 90, '1303': 91, '3007': 92, '2001': 93, '1602': 94, '4601': 95}\n"
   ]
  },
  {
   "cell_type": "code",
   "execution_count": null,
   "id": "bfe58b8c",
   "metadata": {},
   "outputs": [],
   "source": []
  },
  {
   "cell_type": "code",
   "execution_count": 44,
   "id": "4b7e259b",
   "metadata": {},
   "outputs": [],
   "source": [
    "class NpyDataset(Dataset):\n",
    "    def __init__(self, root_dir):\n",
    "        self.root_dir = root_dir\n",
    "        self.folder_list = ['1002', '1004', '1104', '1109']\n",
    "        # self.label_dict = {'1002': 21, '1004': 89, '1104': 23, '1109': 7}\n",
    "        # 아래와 같이 0부터 ~ 3까지 해야합니다 밑에서 Loss를 정의하는데 . nn.CrossEntropyLoss() 특성 때문입니다. \n",
    "        # 즉 위에서 주석처리되어 준비된 dict 들도 0부터 순차적으로 부여해야 합니다. (0,1,2,3,...)\n",
    "        self.label_dict = {'1002': 0, '1004': 1, '1104': 2, '1109': 3}\n",
    "        \n",
    "        self.filepaths = []\n",
    "        self.labels = []\n",
    "\n",
    "        for folder in self.folder_list:\n",
    "            folder_path = os.path.join(self.root_dir, folder)\n",
    "            for filename in os.listdir(folder_path):\n",
    "                if filename.endswith('.npy'):\n",
    "                    self.filepaths.append(os.path.join(folder_path, filename))\n",
    "                    self.labels.append(self.label_dict[folder])\n",
    "\n",
    "    def __len__(self):\n",
    "        return len(self.filepaths)\n",
    "\n",
    "    def __getitem__(self, idx):\n",
    "        data = np.load(self.filepaths[idx])\n",
    "        data = torch.from_numpy(data).float().unsqueeze(0)  \n",
    "        label = self.labels[idx]\n",
    "        return data, torch.tensor(label).long()\n"
   ]
  },
  {
   "cell_type": "code",
   "execution_count": null,
   "id": "29c46c2c",
   "metadata": {},
   "outputs": [],
   "source": []
  },
  {
   "cell_type": "code",
   "execution_count": 45,
   "id": "489399b5",
   "metadata": {},
   "outputs": [],
   "source": [
    "from torch.utils.data import random_split\n",
    "\n",
    "root_dir = \"ex_npy_data\"\n",
    "# root_dir = \"npy_data\"\n",
    "dataset = NpyDataset(root_dir)\n",
    "\n",
    "train_size = int(0.8 * len(dataset))\n",
    "test_size = len(dataset) - train_size\n",
    "\n",
    "train_dataset, test_dataset = random_split(dataset, [train_size, test_size])\n",
    "\n",
    "\n",
    "# 저는 batch size를 작게했지만, gpu의 성능이 괜찮다면, 32 or 64로 하면 더 빠르게 학습이 됩니다. \n",
    "train_loader = DataLoader(train_dataset, batch_size=16, shuffle=True)\n",
    "test_loader = DataLoader(test_dataset, batch_size=16, shuffle=True)\n"
   ]
  },
  {
   "cell_type": "code",
   "execution_count": 46,
   "id": "073fbeaa",
   "metadata": {},
   "outputs": [
    {
     "name": "stdout",
     "output_type": "stream",
     "text": [
      "Class: 0, Count: 5\n",
      "Class: 1, Count: 5\n",
      "Class: 2, Count: 5\n",
      "Class: 3, Count: 5\n"
     ]
    }
   ],
   "source": [
    "from collections import Counter\n",
    "\n",
    "labels = dataset.labels\n",
    "\n",
    "counter = Counter(labels)\n",
    "\n",
    "for class_label, count in counter.items():\n",
    "    print(f'Class: {class_label}, Count: {count}')\n"
   ]
  },
  {
   "cell_type": "code",
   "execution_count": 47,
   "id": "cec971b2",
   "metadata": {},
   "outputs": [
    {
     "name": "stdout",
     "output_type": "stream",
     "text": [
      "Shape of the random sample data: torch.Size([1, 64, 64, 64])\n",
      "Label of the random sample data: 0\n"
     ]
    }
   ],
   "source": [
    "\n",
    "random_index = np.random.randint(len(dataset))\n",
    "random_sample_data, random_sample_label = dataset[random_index]\n",
    "\n",
    "print(f\"Shape of the random sample data: {random_sample_data.shape}\")\n",
    "print(f\"Label of the random sample data: {random_sample_label}\")\n"
   ]
  },
  {
   "cell_type": "code",
   "execution_count": 48,
   "id": "6737466d",
   "metadata": {},
   "outputs": [
    {
     "name": "stdout",
     "output_type": "stream",
     "text": [
      "device 연결된것:  cpu\n"
     ]
    }
   ],
   "source": [
    "device = torch.device(\"cuda\" if torch.cuda.is_available() else \"cpu\")\n",
    "print(\"device 연결된것: \", device)"
   ]
  },
  {
   "cell_type": "code",
   "execution_count": 49,
   "id": "1e9e37e6",
   "metadata": {},
   "outputs": [],
   "source": [
    "# class ConvNet3D(nn.Module):\n",
    "#     def __init__(self, num_classes):\n",
    "#         super(ConvNet3D, self).__init__()\n",
    "#         self.layer1 = nn.Sequential(\n",
    "#             nn.Conv3d(1, 32, kernel_size=3, stride=1, padding=1),\n",
    "#             nn.BatchNorm3d(32),\n",
    "#             nn.ReLU(),\n",
    "#             nn.MaxPool3d(kernel_size=2, stride=2))\n",
    "#         self.layer2 = nn.Sequential(\n",
    "#             nn.Conv3d(32, 64, kernel_size=3, stride=1, padding=1),  \n",
    "#             nn.BatchNorm3d(64),\n",
    "#             nn.ReLU(),\n",
    "#             nn.MaxPool3d(kernel_size=2, stride=2))\n",
    "#         self.layer3 = nn.Sequential(\n",
    "#             nn.Conv3d(64, 128, kernel_size=3, stride=1, padding=1),  \n",
    "#             nn.BatchNorm3d(128),\n",
    "#             nn.ReLU(),\n",
    "#             nn.MaxPool3d(kernel_size=2, stride=2))\n",
    "#         self.layer4 = nn.Sequential(\n",
    "#             nn.Conv3d(128, 256, kernel_size=3, stride=1, padding=1),  \n",
    "#             nn.BatchNorm3d(256),\n",
    "#             nn.ReLU(),\n",
    "#             nn.MaxPool3d(kernel_size=2, stride=2))\n",
    "#         self.drop_out = nn.Dropout()\n",
    "#         self.fc1 = nn.Linear(256 * 4 * 4 * 4, 1024)\n",
    "#         self.fc2 = nn.Linear(1024,512)\n",
    "#         self.fc3 = nn.Linear(512, num_classes)\n",
    "\n",
    "#     def forward(self, x):\n",
    "#         out = self.layer1(x)\n",
    "#         out = self.layer2(out)\n",
    "#         out = self.layer3(out)\n",
    "#         out = self.layer4(out)\n",
    "#         out = out.reshape(out.size(0), -1)\n",
    "#         out = self.drop_out(out)\n",
    "#         out = self.fc1(out)\n",
    "#         out = self.fc2(out)\n",
    "#         out = self.fc3(out)\n",
    "#         return out\n",
    "\n",
    "\n",
    "\n"
   ]
  },
  {
   "cell_type": "code",
   "execution_count": 50,
   "id": "00374815",
   "metadata": {},
   "outputs": [],
   "source": [
    "class ConvNet3D(nn.Module):\n",
    "    def __init__(self, num_classes):\n",
    "        super(ConvNet3D, self).__init__()\n",
    "        self.layer1 = nn.Sequential(\n",
    "            nn.Conv3d(1, 32, kernel_size=3, stride=2, padding=1), \n",
    "            nn.BatchNorm3d(32),\n",
    "            nn.ReLU(),\n",
    "            nn.Dropout(0.5)) \n",
    "        self.layer2 = nn.Sequential(\n",
    "            nn.Conv3d(32, 64, kernel_size=3, stride=2, padding=1),\n",
    "            nn.BatchNorm3d(64),\n",
    "            nn.ReLU(),\n",
    "            nn.Dropout(0.5)) \n",
    "        self.layer3 = nn.Sequential(\n",
    "            nn.Conv3d(64, 128, kernel_size=3, stride=2, padding=1), \n",
    "            nn.BatchNorm3d(128),\n",
    "            nn.ReLU(),\n",
    "            nn.Dropout(0.5))  \n",
    "        self.layer4 = nn.Sequential(\n",
    "            nn.Conv3d(128, 256, kernel_size=3, stride=2, padding=1),  \n",
    "            nn.BatchNorm3d(256),\n",
    "            nn.ReLU(),\n",
    "            nn.Dropout(0.5)) \n",
    "        self.drop_out = nn.Dropout(0.5)  \n",
    "        self.fc1 = nn.Linear(256 * 4 * 4 * 4, 512)\n",
    "        self.fc2 = nn.Linear(512, num_classes)\n",
    "\n",
    "    def forward(self, x):\n",
    "        out = self.layer1(x)\n",
    "        out = self.layer2(out)\n",
    "        out = self.layer3(out)\n",
    "        out = self.layer4(out)\n",
    "        out = out.reshape(out.size(0), -1)\n",
    "        out = self.drop_out(out)\n",
    "        features = self.fc1(out)\n",
    "        out = self.fc2(features)\n",
    "        return out, features\n"
   ]
  },
  {
   "cell_type": "code",
   "execution_count": 51,
   "id": "c0cf1904",
   "metadata": {},
   "outputs": [],
   "source": [
    "model = ConvNet3D(num_classes=4) # 여기서 저는 4로 세팅하였지만, 실제 클래스 갯수 96으로 설정해주셔야 합니다. \n",
    "model = model.to(device)"
   ]
  },
  {
   "cell_type": "code",
   "execution_count": 52,
   "id": "9472043f",
   "metadata": {},
   "outputs": [
    {
     "name": "stdout",
     "output_type": "stream",
     "text": [
      "----------------------------------------------------------------\n",
      "        Layer (type)               Output Shape         Param #\n",
      "================================================================\n",
      "            Conv3d-1       [-1, 32, 32, 32, 32]             896\n",
      "       BatchNorm3d-2       [-1, 32, 32, 32, 32]              64\n",
      "              ReLU-3       [-1, 32, 32, 32, 32]               0\n",
      "           Dropout-4       [-1, 32, 32, 32, 32]               0\n",
      "            Conv3d-5       [-1, 64, 16, 16, 16]          55,360\n",
      "       BatchNorm3d-6       [-1, 64, 16, 16, 16]             128\n",
      "              ReLU-7       [-1, 64, 16, 16, 16]               0\n",
      "           Dropout-8       [-1, 64, 16, 16, 16]               0\n",
      "            Conv3d-9         [-1, 128, 8, 8, 8]         221,312\n",
      "      BatchNorm3d-10         [-1, 128, 8, 8, 8]             256\n",
      "             ReLU-11         [-1, 128, 8, 8, 8]               0\n",
      "          Dropout-12         [-1, 128, 8, 8, 8]               0\n",
      "           Conv3d-13         [-1, 256, 4, 4, 4]         884,992\n",
      "      BatchNorm3d-14         [-1, 256, 4, 4, 4]             512\n",
      "             ReLU-15         [-1, 256, 4, 4, 4]               0\n",
      "          Dropout-16         [-1, 256, 4, 4, 4]               0\n",
      "          Dropout-17                [-1, 16384]               0\n",
      "           Linear-18                  [-1, 512]       8,389,120\n",
      "           Linear-19                    [-1, 4]           2,052\n",
      "================================================================\n",
      "Total params: 9,554,692\n",
      "Trainable params: 9,554,692\n",
      "Non-trainable params: 0\n",
      "----------------------------------------------------------------\n",
      "Input size (MB): 1.00\n",
      "Forward/backward pass size (MB): 42.63\n",
      "Params size (MB): 36.45\n",
      "Estimated Total Size (MB): 80.08\n",
      "----------------------------------------------------------------\n"
     ]
    }
   ],
   "source": [
    "from torchsummary import summary\n",
    "\n",
    "\n",
    "summary(model, (1, 64, 64, 64))"
   ]
  },
  {
   "cell_type": "code",
   "execution_count": 53,
   "id": "92a059c8",
   "metadata": {},
   "outputs": [],
   "source": [
    "def get_accuracy(logit, target, batch_size):\n",
    "    ''' Obtain accuracy for training round '''\n",
    "    corrects = (torch.max(logit, 1)[1].view(target.size()).data == target.data).sum()\n",
    "    accuracy = 100.0 * corrects/batch_size\n",
    "    return accuracy.item()\n"
   ]
  },
  {
   "cell_type": "code",
   "execution_count": 54,
   "id": "f336db85",
   "metadata": {},
   "outputs": [],
   "source": [
    "def train_model(model, criterion, optimizer, train_loader, test_loader, num_epochs, resume):\n",
    "    start_epoch = 0\n",
    "    train_loss = []\n",
    "    train_acc = []\n",
    "    test_loss = []\n",
    "    test_acc = []\n",
    "    resume = resume # 모델을 불러와서 학습할것인가 (True or False)\n",
    "\n",
    "    \n",
    "    if resume:\n",
    "        checkpoint = torch.load('model_checkpoint_4.pt')  # 여기에 저장된 .pt 파일 경로를 입력해야한다. \n",
    "        model.load_state_dict(checkpoint['model_state_dict'])\n",
    "        optimizer.load_state_dict(checkpoint['optimizer_state_dict'])\n",
    "        start_epoch = checkpoint['epoch']\n",
    "        train_loss = checkpoint['train_loss']\n",
    "        train_acc = checkpoint['train_acc']\n",
    "        test_loss = checkpoint['test_loss']\n",
    "        test_acc = checkpoint['test_acc']\n",
    "\n",
    "    for epoch in range(num_epochs):\n",
    "        model.train()\n",
    "        running_loss = 0.0\n",
    "        running_corrects = 0\n",
    "\n",
    "        for i, (inputs, labels) in enumerate(train_loader):\n",
    "            inputs = inputs.to(device)\n",
    "            labels = labels.to(device)\n",
    "\n",
    "            optimizer.zero_grad()\n",
    "            outputs, _ = model(inputs)\n",
    "            loss = criterion(outputs, labels)\n",
    "            _, preds = torch.max(outputs, 1)\n",
    "\n",
    "            loss.backward()\n",
    "            optimizer.step()\n",
    "\n",
    "            running_loss += loss.item() * inputs.size(0)\n",
    "            running_corrects += torch.sum(preds == labels.data)\n",
    "\n",
    "        epoch_loss = running_loss / len(train_loader.dataset)\n",
    "        epoch_acc = running_corrects.double() / len(train_loader.dataset)\n",
    "        train_loss.append(epoch_loss)\n",
    "        train_acc.append(epoch_acc)\n",
    "\n",
    "        print('Epoch [{}/{}], Train Loss: {:.4f}, Train Acc: {:.4f}'.format(epoch+1, num_epochs, epoch_loss, epoch_acc))\n",
    "\n",
    "        if epoch % 50 == 49: # 50번마다 인공지능 모델을 저장\n",
    "        # 모델 체크포인트 저장\n",
    "            torch.save({\n",
    "                'epoch': epoch + 1,\n",
    "                'model_state_dict': model.state_dict(),\n",
    "                'optimizer_state_dict': optimizer.state_dict(),\n",
    "                'train_loss': train_loss,\n",
    "                'train_acc': train_acc,\n",
    "                'test_loss': test_loss,\n",
    "                'test_acc': test_acc\n",
    "            }, f'model_checkpoint_{epoch + 1}.pt')\n",
    "\n",
    "\n",
    "            \n",
    "        model.eval()\n",
    "        running_loss = 0.0\n",
    "        running_corrects = 0\n",
    "\n",
    "        for i, (inputs, labels) in enumerate(test_loader):\n",
    "            inputs = inputs.to(device)\n",
    "            labels = labels.to(device)\n",
    "\n",
    "            with torch.no_grad():\n",
    "                outputs, _ = model(inputs)\n",
    "                loss = criterion(outputs, labels)\n",
    "                _, preds = torch.max(outputs, 1)\n",
    "\n",
    "            running_loss += loss.item() * inputs.size(0)\n",
    "            running_corrects += torch.sum(preds == labels.data)\n",
    "\n",
    "        epoch_loss = running_loss / len(test_loader.dataset)\n",
    "        epoch_acc = running_corrects.double() / len(test_loader.dataset)\n",
    "        test_loss.append(epoch_loss)\n",
    "        test_acc.append(epoch_acc)\n",
    "\n",
    "        print('Test Loss: {:.4f}, Test Acc: {:.4f}'.format(epoch_loss, epoch_acc))\n",
    "\n",
    "    return train_loss, train_acc, test_loss, test_acc\n"
   ]
  },
  {
   "cell_type": "code",
   "execution_count": 55,
   "id": "eae1f83f",
   "metadata": {},
   "outputs": [],
   "source": [
    "\n",
    "model = ConvNet3D(num_classes=4) # num_classes 96으로 수정\n",
    "model = model.to(device)\n",
    "criterion = nn.CrossEntropyLoss()\n",
    "optimizer = torch.optim.Adam(model.parameters(), lr=0.0001)\n",
    "\n",
    "resume = False \n",
    "num_epochs=20\n"
   ]
  },
  {
   "cell_type": "code",
   "execution_count": 56,
   "id": "9720f2f3",
   "metadata": {},
   "outputs": [
    {
     "name": "stdout",
     "output_type": "stream",
     "text": [
      "Epoch [1/20], Train Loss: 1.5188, Train Acc: 0.2500\n",
      "Test Loss: 1.3964, Test Acc: 0.0000\n",
      "Epoch [2/20], Train Loss: 1.3832, Train Acc: 0.3125\n",
      "Test Loss: 1.3911, Test Acc: 0.2500\n",
      "Epoch [3/20], Train Loss: 1.0479, Train Acc: 0.5625\n",
      "Test Loss: 1.3834, Test Acc: 0.2500\n",
      "Epoch [4/20], Train Loss: 0.8377, Train Acc: 0.8125\n",
      "Test Loss: 1.3760, Test Acc: 0.2500\n",
      "Epoch [5/20], Train Loss: 0.7281, Train Acc: 0.8125\n",
      "Test Loss: 1.3684, Test Acc: 0.2500\n",
      "Epoch [6/20], Train Loss: 0.7265, Train Acc: 0.8750\n",
      "Test Loss: 1.3634, Test Acc: 0.2500\n",
      "Epoch [7/20], Train Loss: 0.5435, Train Acc: 0.9375\n",
      "Test Loss: 1.3575, Test Acc: 0.2500\n",
      "Epoch [8/20], Train Loss: 0.5361, Train Acc: 0.8750\n",
      "Test Loss: 1.3466, Test Acc: 0.2500\n",
      "Epoch [9/20], Train Loss: 0.3384, Train Acc: 1.0000\n",
      "Test Loss: 1.3328, Test Acc: 0.2500\n",
      "Epoch [10/20], Train Loss: 0.2534, Train Acc: 1.0000\n",
      "Test Loss: 1.3188, Test Acc: 0.2500\n",
      "Epoch [11/20], Train Loss: 0.2292, Train Acc: 1.0000\n",
      "Test Loss: 1.3073, Test Acc: 0.2500\n",
      "Epoch [12/20], Train Loss: 0.1617, Train Acc: 1.0000\n",
      "Test Loss: 1.3116, Test Acc: 0.2500\n",
      "Epoch [13/20], Train Loss: 0.0975, Train Acc: 1.0000\n",
      "Test Loss: 1.3235, Test Acc: 0.2500\n",
      "Epoch [14/20], Train Loss: 0.1186, Train Acc: 1.0000\n",
      "Test Loss: 1.3401, Test Acc: 0.2500\n",
      "Epoch [15/20], Train Loss: 0.0886, Train Acc: 1.0000\n",
      "Test Loss: 1.3577, Test Acc: 0.2500\n",
      "Epoch [16/20], Train Loss: 0.0665, Train Acc: 1.0000\n",
      "Test Loss: 1.3704, Test Acc: 0.2500\n",
      "Epoch [17/20], Train Loss: 0.0447, Train Acc: 1.0000\n",
      "Test Loss: 1.3785, Test Acc: 0.2500\n",
      "Epoch [18/20], Train Loss: 0.0711, Train Acc: 1.0000\n",
      "Test Loss: 1.3619, Test Acc: 0.2500\n",
      "Epoch [19/20], Train Loss: 0.0404, Train Acc: 1.0000\n",
      "Test Loss: 1.3343, Test Acc: 0.2500\n",
      "Epoch [20/20], Train Loss: 0.0194, Train Acc: 1.0000\n",
      "Test Loss: 1.2999, Test Acc: 0.2500\n"
     ]
    }
   ],
   "source": [
    "\n",
    "train_loss, train_acc, test_loss, test_acc = train_model(model, criterion, optimizer, train_loader, test_loader, num_epochs, resume)\n"
   ]
  },
  {
   "cell_type": "code",
   "execution_count": 57,
   "id": "ec3475d6",
   "metadata": {},
   "outputs": [
    {
     "data": {
      "image/png": "[encoded data removed]",
      "text/plain": [
       "<Figure size 1200x400 with 2 Axes>"
      ]
     },
     "metadata": {},
     "output_type": "display_data"
    }
   ],
   "source": [
    "import matplotlib.pyplot as plt\n",
    "\n",
    "plt.figure(figsize=(12, 4))\n",
    "plt.subplot(1, 2, 1)\n",
    "plt.plot(train_loss, label='Train Loss')\n",
    "plt.plot(test_loss, label='Test Loss')\n",
    "plt.legend()\n",
    "plt.title(\"Loss\")\n",
    "\n",
    "plt.subplot(1, 2, 2)\n",
    "plt.plot(train_acc, label='Train Accuracy')\n",
    "plt.plot(test_acc, label='Test Accuracy')\n",
    "plt.legend()\n",
    "plt.title(\"Accuracy\")\n",
    "\n",
    "plt.show()\n"
   ]
  },
  {
   "cell_type": "code",
   "execution_count": null,
   "id": "7c5515a8",
   "metadata": {},
   "outputs": [],
   "source": []
  },
  {
   "cell_type": "code",
   "execution_count": 58,
   "id": "6dae41ae",
   "metadata": {},
   "outputs": [],
   "source": [
    "def extract_features_and_save(model, dataset, filename=\"extracted_features.txt\"):\n",
    "    model.eval()\n",
    "    \n",
    "    all_features = []\n",
    "\n",
    "    for i in range(len(dataset)):\n",
    "        data, _ = dataset[i]\n",
    "        data = data.unsqueeze(0).to(device)\n",
    "        with torch.no_grad():\n",
    "            out, features = model(data)\n",
    "        features = features.squeeze().cpu().numpy()\n",
    "\n",
    "        filepath = dataset.filepaths[i]\n",
    "        filebasename = os.path.basename(filepath)\n",
    "\n",
    "        features_str = ','.join(map(str, features))  \n",
    "        all_features.append(f\"{filebasename}\\t{features_str}\\n\")\n",
    "\n",
    "    with open(filename, 'w') as f:\n",
    "        f.writelines(all_features)\n"
   ]
  },
  {
   "cell_type": "code",
   "execution_count": 59,
   "id": "9ed3c8a8",
   "metadata": {},
   "outputs": [
    {
     "data": {
      "text/plain": [
       "ConvNet3D(\n",
       "  (layer1): Sequential(\n",
       "    (0): Conv3d(1, 32, kernel_size=(3, 3, 3), stride=(2, 2, 2), padding=(1, 1, 1))\n",
       "    (1): BatchNorm3d(32, eps=1e-05, momentum=0.1, affine=True, track_running_stats=True)\n",
       "    (2): ReLU()\n",
       "    (3): Dropout(p=0.5, inplace=False)\n",
       "  )\n",
       "  (layer2): Sequential(\n",
       "    (0): Conv3d(32, 64, kernel_size=(3, 3, 3), stride=(2, 2, 2), padding=(1, 1, 1))\n",
       "    (1): BatchNorm3d(64, eps=1e-05, momentum=0.1, affine=True, track_running_stats=True)\n",
       "    (2): ReLU()\n",
       "    (3): Dropout(p=0.5, inplace=False)\n",
       "  )\n",
       "  (layer3): Sequential(\n",
       "    (0): Conv3d(64, 128, kernel_size=(3, 3, 3), stride=(2, 2, 2), padding=(1, 1, 1))\n",
       "    (1): BatchNorm3d(128, eps=1e-05, momentum=0.1, affine=True, track_running_stats=True)\n",
       "    (2): ReLU()\n",
       "    (3): Dropout(p=0.5, inplace=False)\n",
       "  )\n",
       "  (layer4): Sequential(\n",
       "    (0): Conv3d(128, 256, kernel_size=(3, 3, 3), stride=(2, 2, 2), padding=(1, 1, 1))\n",
       "    (1): BatchNorm3d(256, eps=1e-05, momentum=0.1, affine=True, track_running_stats=True)\n",
       "    (2): ReLU()\n",
       "    (3): Dropout(p=0.5, inplace=False)\n",
       "  )\n",
       "  (drop_out): Dropout(p=0.5, inplace=False)\n",
       "  (fc1): Linear(in_features=16384, out_features=512, bias=True)\n",
       "  (fc2): Linear(in_features=512, out_features=4, bias=True)\n",
       ")"
      ]
     },
     "execution_count": 59,
     "metadata": {},
     "output_type": "execute_result"
    }
   ],
   "source": [
    "checkpoint = torch.load('model_checkpoint_50.pt')  # 원하시는 저장된 모델명을 입력하시면 됩니다. \n",
    "\n",
    "model.load_state_dict(checkpoint['model_state_dict'])\n",
    "\n",
    "model.eval()"
   ]
  },
  {
   "cell_type": "code",
   "execution_count": 60,
   "id": "e3cc4fe4",
   "metadata": {},
   "outputs": [],
   "source": [
    "extract_features_and_save(model, dataset)"
   ]
  },
  {
   "cell_type": "code",
   "execution_count": 61,
   "id": "661e5102",
   "metadata": {},
   "outputs": [],
   "source": [
    "# 아래의 두 쉘중, 위는 유클리드, 아래는 코사인 유사도 방법입니다. 하나는 주석처리하고 사용하시면 됩니다! "
   ]
  },
  {
   "cell_type": "code",
   "execution_count": 62,
   "id": "30b7578c",
   "metadata": {},
   "outputs": [],
   "source": [
    "import numpy as np\n",
    "\n",
    "def get_feature_vector(model, data):\n",
    "    # 새로운 데이터의 feature vector를 반환\n",
    "    data = data.unsqueeze(0).to(device)\n",
    "    with torch.no_grad():\n",
    "        _, features = model(data)\n",
    "    return features.squeeze().cpu().numpy()\n",
    "\n",
    "def euclidean_dist(vec1, vec2):\n",
    "    # 유클리드 거리 계산\n",
    "    return np.linalg.norm(vec1-vec2)\n",
    "\n",
    "def get_vector_from_index(file_path, index):\n",
    "    # 인덱스로부터 feature vector 추출\n",
    "    with open(file_path, 'r') as f:\n",
    "        lines = f.readlines()\n",
    "        _, features_str = lines[index].strip().split('\\t')\n",
    "        features = np.array(list(map(float, features_str.split(','))))\n",
    "    return features\n",
    "\n",
    "def find_closest(file_path, base):\n",
    "    # base와 가장 가까운 features 찾기\n",
    "    # base가 정수형이면 인덱스로, 넘파이 배열이면 벡터로 처리\n",
    "    base_vec = get_vector_from_index(file_path, base) if isinstance(base, int) else base\n",
    "    closest_files = []\n",
    "    with open(file_path, 'r') as f:\n",
    "        lines = f.readlines()\n",
    "        distances = []\n",
    "        for i, line in enumerate(lines):\n",
    "            filename, features_str = line.strip().split('\\t')\n",
    "            features = np.array(list(map(float, features_str.split(','))))\n",
    "            dist = euclidean_dist(features, base_vec)\n",
    "            distances.append((filename, dist))\n",
    "\n",
    "        distances.sort(key=lambda x: x[1])\n",
    "        closest_files = distances[:10] # 가장 가까운 10개의 데이터를 뽑아냅니다.\n",
    "\n",
    "    max_distance = distances[-1][1]\n",
    "    closest_files_percentages = [(filename, 100 * (1 - dist/max_distance)) for filename, dist in closest_files]\n",
    "\n",
    "    return closest_files_percentages\n"
   ]
  },
  {
   "cell_type": "code",
   "execution_count": 90,
   "id": "aca0b8e3",
   "metadata": {},
   "outputs": [],
   "source": [
    "import numpy as np\n",
    "\n",
    "def get_feature_vector(model, data):\n",
    "    # 새로운 데이터의 feature vector를 반환\n",
    "    data = data.unsqueeze(0).to(device)\n",
    "    with torch.no_grad():\n",
    "        _, features = model(data)\n",
    "    return features.squeeze().cpu().numpy()\n",
    "\n",
    "def cosine_similarity(vec1, vec2):\n",
    "    # 코사인 유사도 계산\n",
    "    vec1_norm = np.linalg.norm(vec1)\n",
    "    vec2_norm = np.linalg.norm(vec2)\n",
    "    dot_product = np.dot(vec1, vec2)\n",
    "    \n",
    "    return dot_product / (vec1_norm * vec2_norm)\n",
    "\n",
    "def get_filename_from_index(file_path, index):\n",
    "    # 인덱스로부터 파일 이름 추출\n",
    "    with open(file_path, 'r') as f:\n",
    "        lines = f.readlines()\n",
    "        filename, _ = lines[index].strip().split('\\t')\n",
    "    return filename\n",
    "\n",
    "def find_closest(file_path, base, base_filename=None):\n",
    "    # base와 가장 가까운 features 찾기\n",
    "    # base가 정수형이면 인덱스로, 넘파이 배열이면 벡터로 처리\n",
    "    base_vec = base if isinstance(base, np.ndarray) else get_vector_from_index(file_path, base)\n",
    "    base_filename = base_filename if base_filename else get_filename_from_index(file_path, base)\n",
    "    base_filename = base_filename[:7] # 파일명 첫 7자리를 가져옵니다. (7자리가 똑같으면 그것은 우선으로 처리)\n",
    "\n",
    "    closest_files = []\n",
    "    with open(file_path, 'r') as f:\n",
    "        lines = f.readlines()\n",
    "        similarities = []\n",
    "        for i, line in enumerate(lines):\n",
    "            filename, features_str = line.strip().split('\\t')\n",
    "            features = np.array(list(map(float, features_str.split(','))))\n",
    "            similarity = cosine_similarity(features, base_vec)\n",
    "            similarities.append((filename, similarity))\n",
    "\n",
    "        # similarity 값으로 정렬\n",
    "        similarities.sort(key=lambda x: x[1], reverse=True) \n",
    "        \n",
    "        # filename이 유사한 경우를 최우선으로 처리\n",
    "        same_filename = []\n",
    "        different_filename = []\n",
    "        for filename, sim in similarities:\n",
    "            if filename[:7] == base_filename:\n",
    "                same_filename.append((filename, sim))\n",
    "            else:\n",
    "                different_filename.append((filename, sim))\n",
    "\n",
    "        # 같은 파일명을 가진 경우를 우선, 그 외를 뒤에 붙입니다.\n",
    "        closest_files = same_filename + different_filename\n",
    "\n",
    "        # 최대 10개만 출력\n",
    "        closest_files = closest_files[:10]\n",
    "\n",
    "    min_similarity = similarities[-1][1]\n",
    "    closest_files_percentages = [(filename, 100 * (sim - min_similarity) / (1 - min_similarity)) for filename, sim in closest_files]\n",
    "\n",
    "    return closest_files_percentages\n"
   ]
  },
  {
   "cell_type": "code",
   "execution_count": 91,
   "id": "592cc6d9",
   "metadata": {
    "scrolled": true
   },
   "outputs": [
    {
     "name": "stdout",
     "output_type": "stream",
     "text": [
      "1 : 파일명: temptemp.npy, 유사도에 따른 % 점수: 100.00%\n",
      "2 : 파일명: temptemp2.npy, 유사도에 따른 % 점수: 70.74%\n",
      "3 : 파일명: temptemp3.npy, 유사도에 따른 % 점수: 50.06%\n",
      "4 : 파일명: hello.npy, 유사도에 따른 % 점수: 100.00%\n",
      "5 : 파일명: BD5312113A.npy, 유사도에 따른 % 점수: 100.00%\n",
      "6 : 파일명: BD5312113A_4.npy, 유사도에 따른 % 점수: 100.00%\n",
      "7 : 파일명: BD5312113A_2.npy, 유사도에 따른 % 점수: 100.00%\n",
      "8 : 파일명: LVZB011_3.npy, 유사도에 따른 % 점수: 70.74%\n",
      "9 : 파일명: LVZB011_4.npy, 유사도에 따른 % 점수: 70.74%\n",
      "10 : 파일명: LVZB011_5.npy, 유사도에 따른 % 점수: 70.74%\n"
     ]
    }
   ],
   "source": [
    "npy_file_name = \"temptemp33.npy\"\n",
    "new_data = np.load(npy_file_name) \n",
    "new_data = torch.from_numpy(new_data).float().unsqueeze(0)\n",
    "new_vec = get_feature_vector(model, new_data)\n",
    "\n",
    "closest_files = find_closest(\"extracted_features.txt\", new_vec, npy_file_name)\n",
    "\n",
    "for i, (filename, percentage) in enumerate(closest_files):\n",
    "    print(f\"{i+1} : 파일명: {filename}, 유사도에 따른 % 점수: {percentage:.2f}%\")"
   ]
  },
  {
   "cell_type": "code",
   "execution_count": 97,
   "id": "67305e01",
   "metadata": {},
   "outputs": [
    {
     "name": "stdout",
     "output_type": "stream",
     "text": [
      "1 : 파일명: temptemp2.npy, 유사도에 따른 % 점수: 100.00%\n",
      "2 : 파일명: temptemp.npy, 유사도에 따른 % 점수: 59.12%\n",
      "3 : 파일명: temptemp3.npy, 유사도에 따른 % 점수: 36.01%\n",
      "4 : 파일명: LVZB011_3.npy, 유사도에 따른 % 점수: 100.00%\n",
      "5 : 파일명: LVZB011_4.npy, 유사도에 따른 % 점수: 100.00%\n",
      "6 : 파일명: LVZB011_5.npy, 유사도에 따른 % 점수: 100.00%\n",
      "7 : 파일명: LVZB011.npy, 유사도에 따른 % 점수: 100.00%\n",
      "8 : 파일명: hello.npy, 유사도에 따른 % 점수: 59.12%\n",
      "9 : 파일명: BD5312113A.npy, 유사도에 따른 % 점수: 59.12%\n",
      "10 : 파일명: BD5312113A_4.npy, 유사도에 따른 % 점수: 59.12%\n"
     ]
    }
   ],
   "source": [
    "index = 15\n",
    "closest_files = find_closest(\"extracted_features.txt\", index)\n",
    "\n",
    "for i, (filename, percentage) in enumerate(closest_files):\n",
    "    print(f\"{i+1} : 파일명: {filename}, 유사도에 따른 % 점수: {percentage:.2f}%\")\n"
   ]
  },
  {
   "cell_type": "code",
   "execution_count": null,
   "id": "d8eb6231",
   "metadata": {},
   "outputs": [],
   "source": []
  },
  {
   "cell_type": "code",
   "execution_count": null,
   "id": "b91acbc8",
   "metadata": {},
   "outputs": [],
   "source": []
  },
  {
   "cell_type": "code",
   "execution_count": null,
   "id": "d7752299",
   "metadata": {},
   "outputs": [],
   "source": []
  },
  {
   "cell_type": "code",
   "execution_count": null,
   "id": "e6bb92b8",
   "metadata": {},
   "outputs": [],
   "source": []
  }
 ],
 "metadata": {
  "kernelspec": {
   "display_name": "Python 3 (ipykernel)",
   "language": "python",
   "name": "python3"
  },
  "language_info": {
   "codemirror_mode": {
    "name": "ipython",
    "version": 3
   },
   "file_extension": ".py",
   "mimetype": "text/x-python",
   "name": "python",
   "nbconvert_exporter": "python",
   "pygments_lexer": "ipython3",
   "version": "3.10.12"
  }
 },
 "nbformat": 4,
 "nbformat_minor": 5
}
