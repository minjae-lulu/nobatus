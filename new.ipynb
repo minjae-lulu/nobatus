{
 "cells": [
  {
   "cell_type": "code",
   "execution_count": 1,
   "id": "f07e9d35",
   "metadata": {},
   "outputs": [],
   "source": [
    "# 새로 수정된 버전입니다."
   ]
  },
  {
   "cell_type": "code",
   "execution_count": 17,
   "id": "5e350db3",
   "metadata": {},
   "outputs": [],
   "source": [
    "# 필요한 모듈을 import 한다. \n",
    "import numpy as np\n",
    "from stl import mesh\n",
    "import trimesh\n",
    "import os\n",
    "from scipy import ndimage"
   ]
  },
  {
   "cell_type": "code",
   "execution_count": 18,
   "id": "5d896da6",
   "metadata": {},
   "outputs": [
    {
     "name": "stdout",
     "output_type": "stream",
     "text": [
      "Original shape: (25, 32, 32)\n",
      "Number of 1s: 6830\n",
      "Number of 0s: 18770\n",
      "Resized shape: (64, 64, 64)\n",
      "Number of 1s: 65896\n",
      "Number of 0s: 196248\n"
     ]
    }
   ],
   "source": [
    "# 한번 확인하는 코드입니다.\n",
    "# 기존 데이터를 불러와서 shape와 0과 1의 갯수 확인 / 이를 보간법을통해 다시 shape를 알맞게 조절 (이때 bilinear interpolation을 써서 문제가 되었음).\n",
    "# order=0 으로 하여 nearest-neighbor interpolation 방법으로 보간법을 사용해 1과 0의 비율을 맞춰줌 \n",
    "\n",
    "\n",
    "import numpy as np\n",
    "import trimesh\n",
    "from scipy import ndimage\n",
    "\n",
    "# STL 파일을 읽습니다\n",
    "mesh = trimesh.load_mesh(\"stl_data/C57289014.stl\")\n",
    "\n",
    "# STL 메쉬를 voxel grid로 변환합니다.\n",
    "voxels = mesh.voxelized(pitch=0.05)\n",
    "\n",
    "# voxel grid를 numpy array로 변환합니다.\n",
    "array = voxels.matrix\n",
    "\n",
    "print(f'Original shape: {array.shape}')  # 변환 전 shape 출력\n",
    "# 1의 개수를 세어서 출력합니다\n",
    "num_ones = np.count_nonzero(array)\n",
    "print(f'Number of 1s: {num_ones}')\n",
    "\n",
    "# 0의 개수를 세어서 출력합니다\n",
    "num_zeros = array.size - num_ones\n",
    "print(f'Number of 0s: {num_zeros}')\n",
    "\n",
    "# 각 차원에 대한 증가 비율을 계산합니다.\n",
    "zoom_ratio = np.array([64, 64, 64]) / array.shape\n",
    "# 선형 보간을 사용하여 배열 크기를 변경합니다.\n",
    "resized_array = ndimage.zoom(array, zoom_ratio, order=0) # k mean clustering\n",
    "\n",
    "\n",
    "print(f'Resized shape: {resized_array.shape}') \n",
    "num_ones = np.count_nonzero(resized_array)\n",
    "print(f'Number of 1s: {num_ones}')\n",
    "num_zeros = resized_array.size - num_ones\n",
    "print(f'Number of 0s: {num_zeros}')\n"
   ]
  },
  {
   "cell_type": "code",
   "execution_count": 19,
   "id": "c8e6d927",
   "metadata": {},
   "outputs": [
    {
     "name": "stdout",
     "output_type": "stream",
     "text": [
      "모두 저장완료.\n"
     ]
    }
   ],
   "source": [
    "stl_dir = 'stl_data'\n",
    "npy_dir = 'npy_data'\n",
    "\n",
    "# npy_data 폴더가 생성\n",
    "if not os.path.exists(npy_dir):\n",
    "    os.makedirs(npy_dir)\n",
    "\n",
    "\n",
    "for filename in os.listdir(stl_dir):\n",
    "    if filename.endswith('.stl'):\n",
    "\n",
    "        stl_path = os.path.join(stl_dir, filename)\n",
    "        mesh = trimesh.load_mesh(stl_path)\n",
    "\n",
    "        # (너무 오래걸릴시, 0.5정도로 먼저 저장해보고, 잘작동되면 0.025 또는 0.05정도로 파일저장)\n",
    "        voxels = mesh.voxelized(pitch=0.05)\n",
    "        \n",
    "        # 결과 배열을 int 타입으로 변환합니다.\n",
    "        array = voxels.matrix.astype(int)\n",
    "        \n",
    "        # 각 차원에 대한 증가 비율을 계산합니다.\n",
    "        zoom_ratio = np.array([64, 64, 64]) / array.shape\n",
    "        # 선형 보간을 사용하여 배열 크기를 변경합니다.\n",
    "        resized_array = ndimage.zoom(array, zoom_ratio, order=0) # k mean clustering\n",
    "        \n",
    "        # npy 파일로 저장합니다.\n",
    "        npy_path = os.path.join(npy_dir, filename.replace('.stl', '.npy'))\n",
    "        np.save(npy_path, resized_array)\n",
    "\n",
    "print(\"모두 저장완료.\")"
   ]
  },
  {
   "cell_type": "code",
   "execution_count": 22,
   "id": "aa6d5991",
   "metadata": {
    "scrolled": false
   },
   "outputs": [
    {
     "name": "stdout",
     "output_type": "stream",
     "text": [
      "Shape of C57289014.npy: (64, 64, 64)\n",
      "Shape of LVZB011.npy: (64, 64, 64)\n",
      "Shape of B14120054.npy: (64, 64, 64)\n",
      "Shape of BD5312113A.npy: (64, 64, 64)\n",
      "\n",
      "Total number of npy files: 4\n"
     ]
    }
   ],
   "source": [
    "npy_dir = 'npy_data'\n",
    "\n",
    "npy_count = 0\n",
    "\n",
    "for filename in os.listdir(npy_dir):\n",
    "    if filename.endswith('.npy'):\n",
    "    \n",
    "        npy_count += 1\n",
    "        \n",
    "        # npy 파일 로드\n",
    "        npy_path = os.path.join(npy_dir, filename)\n",
    "        data = np.load(npy_path)\n",
    "        \n",
    "        # 파일이 너무 많은경우 아래 코드 주석처리 (저장된 npy 모양 출력확인용)\n",
    "        print(f'Shape of {filename}:', data.shape)\n",
    "\n",
    "# 총 npy 파일의 개수를 출력합니다.\n",
    "print('\\nTotal number of npy files:', npy_count)"
   ]
  },
  {
   "cell_type": "code",
   "execution_count": 26,
   "id": "2eee6947",
   "metadata": {},
   "outputs": [],
   "source": []
  },
  {
   "cell_type": "code",
   "execution_count": null,
   "id": "cd883912",
   "metadata": {},
   "outputs": [],
   "source": []
  }
 ],
 "metadata": {
  "kernelspec": {
   "display_name": "Python 3 (ipykernel)",
   "language": "python",
   "name": "python3"
  },
  "language_info": {
   "codemirror_mode": {
    "name": "ipython",
    "version": 3
   },
   "file_extension": ".py",
   "mimetype": "text/x-python",
   "name": "python",
   "nbconvert_exporter": "python",
   "pygments_lexer": "ipython3",
   "version": "3.10.11"
  }
 },
 "nbformat": 4,
 "nbformat_minor": 5
}
