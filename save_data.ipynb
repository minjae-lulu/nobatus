{
 "cells": [
  {
   "cell_type": "code",
   "execution_count": 1,
   "metadata": {
    "id": "8albVl43FErv"
   },
   "outputs": [
    {
     "ename": "SyntaxError",
     "evalue": "invalid syntax (2074546478.py, line 2)",
     "output_type": "error",
     "traceback": [
      "\u001b[0;36m  Cell \u001b[0;32mIn[1], line 2\u001b[0;36m\u001b[0m\n\u001b[0;31m    pip install numpy-stl\u001b[0m\n\u001b[0m        ^\u001b[0m\n\u001b[0;31mSyntaxError\u001b[0m\u001b[0;31m:\u001b[0m invalid syntax\n"
     ]
    }
   ],
   "source": [
    "# 필요한 모듈을 설치한다. \n",
    "pip install numpy-stl\n",
    "pip install trimesh\n",
    "pip install trame"
   ]
  },
  {
   "cell_type": "code",
   "execution_count": 1,
   "metadata": {
    "id": "tKtgZGgEFFbo"
   },
   "outputs": [],
   "source": [
    "# 필요한 모듈을 import 한다. \n",
    "import numpy as np\n",
    "from stl import mesh\n",
    "import trimesh\n",
    "import os"
   ]
  },
  {
   "cell_type": "markdown",
   "metadata": {
    "id": "4gcmHM3ORpJG"
   },
   "source": [
    "## stl 파일 np로 저장하기\n",
    "\n",
    "폴더 stl_data 안에 모든 .stl 파일을 넣고, 아래의 코드를 실행하면 npy_data 폴더가 생성되고, .stl 파일들이 .npy 파일로 변환되어 npy_data 폴더에 저장됩니다. \n",
    "\n",
    "중간에 pitch 값을 수정하여, 3차원 공간을 얼마나 세세하게 자를지 결정할수 있습니다.\n",
    "zoom_factors = 에서 64는 3차원 공간을 64*64*64로 통일하는 코드입니다. 64말고 다른 숫자를 쓰면, data의 크기를 조절할수 있습니다. (bilinear interploation을 사용하여 사이즈를 통일합니다.)"
   ]
  },
  {
   "cell_type": "code",
   "execution_count": 4,
   "metadata": {},
   "outputs": [
    {
     "ename": "KeyboardInterrupt",
     "evalue": "",
     "output_type": "error",
     "traceback": [
      "\u001b[0;31m---------------------------------------------------------------------------\u001b[0m",
      "\u001b[0;31mKeyboardInterrupt\u001b[0m                         Traceback (most recent call last)",
      "Cell \u001b[0;32mIn[4], line 22\u001b[0m\n\u001b[1;32m     19\u001b[0m mesh \u001b[38;5;241m=\u001b[39m trimesh\u001b[38;5;241m.\u001b[39mload_mesh(stl_path)\n\u001b[1;32m     21\u001b[0m \u001b[38;5;66;03m# (너무 오래걸릴시, 0.5정도로 먼저 저장해보고, 잘작동되면 0.025 또는 0.05정도로 파일저장)\u001b[39;00m\n\u001b[0;32m---> 22\u001b[0m voxels \u001b[38;5;241m=\u001b[39m \u001b[43mmesh\u001b[49m\u001b[38;5;241;43m.\u001b[39;49m\u001b[43mvoxelized\u001b[49m\u001b[43m(\u001b[49m\u001b[43mpitch\u001b[49m\u001b[38;5;241;43m=\u001b[39;49m\u001b[38;5;241;43m0.5\u001b[39;49m\u001b[43m)\u001b[49m\n\u001b[1;32m     24\u001b[0m \u001b[38;5;66;03m# 결과 배열을 int 타입으로 변환합니다.\u001b[39;00m\n\u001b[1;32m     25\u001b[0m array \u001b[38;5;241m=\u001b[39m voxels\u001b[38;5;241m.\u001b[39mmatrix\u001b[38;5;241m.\u001b[39mastype(\u001b[38;5;28mint\u001b[39m)\n",
      "File \u001b[0;32m/opt/homebrew/lib/python3.10/site-packages/trimesh/base.py:2500\u001b[0m, in \u001b[0;36mTrimesh.voxelized\u001b[0;34m(self, pitch, method, **kwargs)\u001b[0m\n\u001b[1;32m   2483\u001b[0m \u001b[38;5;250m\u001b[39m\u001b[38;5;124;03m\"\"\"\u001b[39;00m\n\u001b[1;32m   2484\u001b[0m \u001b[38;5;124;03mReturn a VoxelGrid object representing the current mesh\u001b[39;00m\n\u001b[1;32m   2485\u001b[0m \u001b[38;5;124;03mdiscretized into voxels at the specified pitch\u001b[39;00m\n\u001b[0;32m   (...)\u001b[0m\n\u001b[1;32m   2497\u001b[0m \u001b[38;5;124;03m  Representing the current mesh\u001b[39;00m\n\u001b[1;32m   2498\u001b[0m \u001b[38;5;124;03m\"\"\"\u001b[39;00m\n\u001b[1;32m   2499\u001b[0m \u001b[38;5;28;01mfrom\u001b[39;00m \u001b[38;5;21;01m.\u001b[39;00m\u001b[38;5;21;01mvoxel\u001b[39;00m \u001b[38;5;28;01mimport\u001b[39;00m creation\n\u001b[0;32m-> 2500\u001b[0m \u001b[38;5;28;01mreturn\u001b[39;00m \u001b[43mcreation\u001b[49m\u001b[38;5;241;43m.\u001b[39;49m\u001b[43mvoxelize\u001b[49m\u001b[43m(\u001b[49m\n\u001b[1;32m   2501\u001b[0m \u001b[43m    \u001b[49m\u001b[43mmesh\u001b[49m\u001b[38;5;241;43m=\u001b[39;49m\u001b[38;5;28;43mself\u001b[39;49m\u001b[43m,\u001b[49m\u001b[43m \u001b[49m\u001b[43mpitch\u001b[49m\u001b[38;5;241;43m=\u001b[39;49m\u001b[43mpitch\u001b[49m\u001b[43m,\u001b[49m\u001b[43m \u001b[49m\u001b[43mmethod\u001b[49m\u001b[38;5;241;43m=\u001b[39;49m\u001b[43mmethod\u001b[49m\u001b[43m,\u001b[49m\u001b[43m \u001b[49m\u001b[38;5;241;43m*\u001b[39;49m\u001b[38;5;241;43m*\u001b[39;49m\u001b[43mkwargs\u001b[49m\u001b[43m)\u001b[49m\n",
      "File \u001b[0;32m/opt/homebrew/lib/python3.10/site-packages/trimesh/voxel/creation.py:314\u001b[0m, in \u001b[0;36mvoxelize\u001b[0;34m(mesh, pitch, method, **kwargs)\u001b[0m\n\u001b[1;32m    293\u001b[0m \u001b[38;5;28;01mdef\u001b[39;00m \u001b[38;5;21mvoxelize\u001b[39m(mesh, pitch, method\u001b[38;5;241m=\u001b[39m\u001b[38;5;124m'\u001b[39m\u001b[38;5;124msubdivide\u001b[39m\u001b[38;5;124m'\u001b[39m, \u001b[38;5;241m*\u001b[39m\u001b[38;5;241m*\u001b[39mkwargs):\n\u001b[1;32m    294\u001b[0m \u001b[38;5;250m    \u001b[39m\u001b[38;5;124;03m\"\"\"\u001b[39;00m\n\u001b[1;32m    295\u001b[0m \u001b[38;5;124;03m    Voxelize the given mesh using the specified implementation.\u001b[39;00m\n\u001b[1;32m    296\u001b[0m \n\u001b[0;32m   (...)\u001b[0m\n\u001b[1;32m    312\u001b[0m \u001b[38;5;124;03m    A VoxelGrid instance.\u001b[39;00m\n\u001b[1;32m    313\u001b[0m \u001b[38;5;124;03m    \"\"\"\u001b[39;00m\n\u001b[0;32m--> 314\u001b[0m     \u001b[38;5;28;01mreturn\u001b[39;00m \u001b[43mvoxelizers\u001b[49m\u001b[43m(\u001b[49m\u001b[43mmethod\u001b[49m\u001b[43m,\u001b[49m\u001b[43m \u001b[49m\u001b[43mmesh\u001b[49m\u001b[38;5;241;43m=\u001b[39;49m\u001b[43mmesh\u001b[49m\u001b[43m,\u001b[49m\u001b[43m \u001b[49m\u001b[43mpitch\u001b[49m\u001b[38;5;241;43m=\u001b[39;49m\u001b[43mpitch\u001b[49m\u001b[43m,\u001b[49m\u001b[43m \u001b[49m\u001b[38;5;241;43m*\u001b[39;49m\u001b[38;5;241;43m*\u001b[39;49m\u001b[43mkwargs\u001b[49m\u001b[43m)\u001b[49m\n",
      "File \u001b[0;32m/opt/homebrew/lib/python3.10/site-packages/trimesh/util.py:2295\u001b[0m, in \u001b[0;36mFunctionRegistry.__call__\u001b[0;34m(self, key, *args, **kwargs)\u001b[0m\n\u001b[1;32m   2294\u001b[0m \u001b[38;5;28;01mdef\u001b[39;00m \u001b[38;5;21m__call__\u001b[39m(\u001b[38;5;28mself\u001b[39m, key, \u001b[38;5;241m*\u001b[39margs, \u001b[38;5;241m*\u001b[39m\u001b[38;5;241m*\u001b[39mkwargs):\n\u001b[0;32m-> 2295\u001b[0m     \u001b[38;5;28;01mreturn\u001b[39;00m \u001b[38;5;28;43mself\u001b[39;49m\u001b[43m[\u001b[49m\u001b[43mkey\u001b[49m\u001b[43m]\u001b[49m\u001b[43m(\u001b[49m\u001b[38;5;241;43m*\u001b[39;49m\u001b[43margs\u001b[49m\u001b[43m,\u001b[49m\u001b[43m \u001b[49m\u001b[38;5;241;43m*\u001b[39;49m\u001b[38;5;241;43m*\u001b[39;49m\u001b[43mkwargs\u001b[49m\u001b[43m)\u001b[49m\n",
      "File \u001b[0;32m/opt/homebrew/lib/python3.10/site-packages/trimesh/constants.py:146\u001b[0m, in \u001b[0;36mlog_time.<locals>.timed\u001b[0;34m(*args, **kwargs)\u001b[0m\n\u001b[1;32m    144\u001b[0m \u001b[38;5;28;01mdef\u001b[39;00m \u001b[38;5;21mtimed\u001b[39m(\u001b[38;5;241m*\u001b[39margs, \u001b[38;5;241m*\u001b[39m\u001b[38;5;241m*\u001b[39mkwargs):\n\u001b[1;32m    145\u001b[0m     tic \u001b[38;5;241m=\u001b[39m now()\n\u001b[0;32m--> 146\u001b[0m     result \u001b[38;5;241m=\u001b[39m \u001b[43mmethod\u001b[49m\u001b[43m(\u001b[49m\u001b[38;5;241;43m*\u001b[39;49m\u001b[43margs\u001b[49m\u001b[43m,\u001b[49m\u001b[43m \u001b[49m\u001b[38;5;241;43m*\u001b[39;49m\u001b[38;5;241;43m*\u001b[39;49m\u001b[43mkwargs\u001b[49m\u001b[43m)\u001b[49m\n\u001b[1;32m    147\u001b[0m     log\u001b[38;5;241m.\u001b[39mdebug(\u001b[38;5;124m'\u001b[39m\u001b[38;5;132;01m%s\u001b[39;00m\u001b[38;5;124m executed in \u001b[39m\u001b[38;5;132;01m%.4f\u001b[39;00m\u001b[38;5;124m seconds.\u001b[39m\u001b[38;5;124m'\u001b[39m,\n\u001b[1;32m    148\u001b[0m               method\u001b[38;5;241m.\u001b[39m\u001b[38;5;18m__name__\u001b[39m,\n\u001b[1;32m    149\u001b[0m               now() \u001b[38;5;241m-\u001b[39m tic)\n\u001b[1;32m    151\u001b[0m     \u001b[38;5;28;01mreturn\u001b[39;00m result\n",
      "File \u001b[0;32m/opt/homebrew/lib/python3.10/site-packages/trimesh/voxel/creation.py:49\u001b[0m, in \u001b[0;36mvoxelize_subdivide\u001b[0;34m(mesh, pitch, max_iter, edge_factor)\u001b[0m\n\u001b[1;32m     44\u001b[0m     max_iter \u001b[38;5;241m=\u001b[39m \u001b[38;5;28mmax\u001b[39m(\u001b[38;5;28mint\u001b[39m(np\u001b[38;5;241m.\u001b[39mceil(np\u001b[38;5;241m.\u001b[39mlog2(\n\u001b[1;32m     45\u001b[0m         longest_edge \u001b[38;5;241m/\u001b[39m max_edge))), \u001b[38;5;241m0\u001b[39m)\n\u001b[1;32m     47\u001b[0m \u001b[38;5;66;03m# get the same mesh sudivided so every edge is shorter\u001b[39;00m\n\u001b[1;32m     48\u001b[0m \u001b[38;5;66;03m# than a factor of our pitch\u001b[39;00m\n\u001b[0;32m---> 49\u001b[0m v, f, idx \u001b[38;5;241m=\u001b[39m \u001b[43mremesh\u001b[49m\u001b[38;5;241;43m.\u001b[39;49m\u001b[43msubdivide_to_size\u001b[49m\u001b[43m(\u001b[49m\u001b[43mmesh\u001b[49m\u001b[38;5;241;43m.\u001b[39;49m\u001b[43mvertices\u001b[49m\u001b[43m,\u001b[49m\n\u001b[1;32m     50\u001b[0m \u001b[43m                                     \u001b[49m\u001b[43mmesh\u001b[49m\u001b[38;5;241;43m.\u001b[39;49m\u001b[43mfaces\u001b[49m\u001b[43m,\u001b[49m\n\u001b[1;32m     51\u001b[0m \u001b[43m                                     \u001b[49m\u001b[43mmax_edge\u001b[49m\u001b[38;5;241;43m=\u001b[39;49m\u001b[43mmax_edge\u001b[49m\u001b[43m,\u001b[49m\n\u001b[1;32m     52\u001b[0m \u001b[43m                                     \u001b[49m\u001b[43mmax_iter\u001b[49m\u001b[38;5;241;43m=\u001b[39;49m\u001b[43mmax_iter\u001b[49m\u001b[43m,\u001b[49m\n\u001b[1;32m     53\u001b[0m \u001b[43m                                     \u001b[49m\u001b[43mreturn_index\u001b[49m\u001b[38;5;241;43m=\u001b[39;49m\u001b[38;5;28;43;01mTrue\u001b[39;49;00m\u001b[43m)\u001b[49m\n\u001b[1;32m     55\u001b[0m \u001b[38;5;66;03m# convert the vertices to their voxel grid position\u001b[39;00m\n\u001b[1;32m     56\u001b[0m hit \u001b[38;5;241m=\u001b[39m v \u001b[38;5;241m/\u001b[39m pitch\n",
      "File \u001b[0;32m/opt/homebrew/lib/python3.10/site-packages/trimesh/remesh.py:183\u001b[0m, in \u001b[0;36msubdivide_to_size\u001b[0;34m(vertices, faces, max_edge, max_iter, return_index)\u001b[0m\n\u001b[1;32m    178\u001b[0m face_ok \u001b[38;5;241m=\u001b[39m \u001b[38;5;241m~\u001b[39mtoo_long\n\u001b[1;32m    180\u001b[0m \u001b[38;5;66;03m# clean up the faces a little bit so we don't\u001b[39;00m\n\u001b[1;32m    181\u001b[0m \u001b[38;5;66;03m# store a ton of unused vertices\u001b[39;00m\n\u001b[1;32m    182\u001b[0m unique, inverse \u001b[38;5;241m=\u001b[39m grouping\u001b[38;5;241m.\u001b[39munique_bincount(\n\u001b[0;32m--> 183\u001b[0m     \u001b[43mcurrent_faces\u001b[49m\u001b[43m[\u001b[49m\u001b[43mface_ok\u001b[49m\u001b[43m]\u001b[49m\u001b[38;5;241;43m.\u001b[39;49m\u001b[43mflatten\u001b[49m\u001b[43m(\u001b[49m\u001b[43m)\u001b[49m,\n\u001b[1;32m    184\u001b[0m     return_inverse\u001b[38;5;241m=\u001b[39m\u001b[38;5;28;01mTrue\u001b[39;00m)\n\u001b[1;32m    186\u001b[0m \u001b[38;5;66;03m# store vertices and faces meeting criteria\u001b[39;00m\n\u001b[1;32m    187\u001b[0m done_vert\u001b[38;5;241m.\u001b[39mappend(current_vertices[unique])\n",
      "\u001b[0;31mKeyboardInterrupt\u001b[0m: "
     ]
    }
   ],
   "source": [
    "import os\n",
    "import trimesh\n",
    "import numpy as np\n",
    "from scipy.ndimage import zoom\n",
    "\n",
    "\n",
    "stl_dir = 'stl_data'\n",
    "npy_dir = 'npy_data'\n",
    "\n",
    "# npy_data 폴더가 생성\n",
    "if not os.path.exists(npy_dir):\n",
    "    os.makedirs(npy_dir)\n",
    "\n",
    "\n",
    "for filename in os.listdir(stl_dir):\n",
    "    if filename.endswith('.stl'):\n",
    "\n",
    "        stl_path = os.path.join(stl_dir, filename)\n",
    "        mesh = trimesh.load_mesh(stl_path)\n",
    "\n",
    "        # (너무 오래걸릴시, 0.5정도로 먼저 저장해보고, 잘작동되면 0.025 또는 0.05정도로 파일저장)\n",
    "        voxels = mesh.voxelized(pitch=0.5)\n",
    "        \n",
    "        # 결과 배열을 int 타입으로 변환합니다.\n",
    "        array = voxels.matrix.astype(int)\n",
    "        \n",
    "        # 배열의 크기를 조정합니다.\n",
    "        zoom_factors = [64/size for size in array.shape]\n",
    "        array_resized = zoom(array, zoom_factors, order=1)  # 보간법으로 크기 조절\n",
    "        \n",
    "        # npy 파일로 저장합니다.\n",
    "        npy_path = os.path.join(npy_dir, filename.replace('.stl', '.npy'))\n",
    "        np.save(npy_path, array_resized)\n",
    "\n",
    "print(\"모두 저장완료.\")\n"
   ]
  },
  {
   "cell_type": "code",
   "execution_count": 3,
   "metadata": {
    "scrolled": true
   },
   "outputs": [
    {
     "name": "stdout",
     "output_type": "stream",
     "text": [
      "Shape of BD5312113A 복사본 22.npy: (64, 64, 64)\n",
      "Shape of LVZB011 복사본 14.npy: (64, 64, 64)\n",
      "Shape of LVZB011 복사본 15.npy: (64, 64, 64)\n",
      "Shape of BD5312113A 복사본 23.npy: (64, 64, 64)\n",
      "Shape of C57289014.npy: (64, 64, 64)\n",
      "Shape of LVZB011 복사본.npy: (64, 64, 64)\n",
      "Shape of C57289014 복사본 8.npy: (64, 64, 64)\n",
      "Shape of BD5312113A 복사본 21.npy: (64, 64, 64)\n",
      "Shape of LVZB011 복사본 17.npy: (64, 64, 64)\n",
      "Shape of LVZB011 복사본 16.npy: (64, 64, 64)\n",
      "Shape of BD5312113A 복사본 20.npy: (64, 64, 64)\n",
      "Shape of C57289014 복사본 9.npy: (64, 64, 64)\n",
      "Shape of B14120054 복사본 8.npy: (64, 64, 64)\n",
      "Shape of BD5312113A 복사본 24.npy: (64, 64, 64)\n",
      "Shape of BD5312113A 복사본 18.npy: (64, 64, 64)\n",
      "Shape of LVZB011 복사본 12.npy: (64, 64, 64)\n",
      "Shape of LVZB011 복사본 13.npy: (64, 64, 64)\n",
      "Shape of BD5312113A 복사본 19.npy: (64, 64, 64)\n",
      "Shape of BD5312113A 복사본 25.npy: (64, 64, 64)\n",
      "Shape of B14120054 복사본 9.npy: (64, 64, 64)\n",
      "Shape of LVZB011 복사본 11.npy: (64, 64, 64)\n",
      "Shape of LVZB011 복사본 10.npy: (64, 64, 64)\n",
      "Shape of LVZB011 복사본 4.npy: (64, 64, 64)\n",
      "Shape of B14120054 복사본 20.npy: (64, 64, 64)\n",
      "Shape of C57289014 복사본 21.npy: (64, 64, 64)\n",
      "Shape of C57289014 복사본 20.npy: (64, 64, 64)\n",
      "Shape of B14120054 복사본 21.npy: (64, 64, 64)\n",
      "Shape of LVZB011 복사본 5.npy: (64, 64, 64)\n",
      "Shape of LVZB011 복사본 7.npy: (64, 64, 64)\n",
      "Shape of BD5312113A 복사본 8.npy: (64, 64, 64)\n",
      "Shape of LVZB011.npy: (64, 64, 64)\n",
      "Shape of B14120054 복사본 23.npy: (64, 64, 64)\n",
      "Shape of C57289014 복사본 22.npy: (64, 64, 64)\n",
      "Shape of C57289014 복사본 23.npy: (64, 64, 64)\n",
      "Shape of B14120054 복사본 22.npy: (64, 64, 64)\n",
      "Shape of BD5312113A 복사본 9.npy: (64, 64, 64)\n",
      "Shape of LVZB011 복사본 6.npy: (64, 64, 64)\n",
      "Shape of LVZB011 복사본 2.npy: (64, 64, 64)\n",
      "Shape of LVZB011 복사본 3.npy: (64, 64, 64)\n",
      "Shape of B14120054.npy: (64, 64, 64)\n",
      "Shape of B14120054 복사본 25.npy: (64, 64, 64)\n",
      "Shape of B14120054 복사본 19.npy: (64, 64, 64)\n",
      "Shape of C57289014 복사본 18.npy: (64, 64, 64)\n",
      "Shape of C57289014 복사본 24.npy: (64, 64, 64)\n",
      "Shape of C57289014 복사본 25.npy: (64, 64, 64)\n",
      "Shape of BD5312113A.npy: (64, 64, 64)\n",
      "Shape of C57289014 복사본 19.npy: (64, 64, 64)\n",
      "Shape of B14120054 복사본 18.npy: (64, 64, 64)\n",
      "Shape of B14120054 복사본 24.npy: (64, 64, 64)\n",
      "Shape of BD5312113A 복사본 2.npy: (64, 64, 64)\n",
      "Shape of B14120054 복사본 15.npy: (64, 64, 64)\n",
      "Shape of C57289014 복사본 14.npy: (64, 64, 64)\n",
      "Shape of C57289014 복사본 15.npy: (64, 64, 64)\n",
      "Shape of B14120054 복사본 14.npy: (64, 64, 64)\n",
      "Shape of BD5312113A 복사본 3.npy: (64, 64, 64)\n",
      "Shape of C57289014 복사본.npy: (64, 64, 64)\n",
      "Shape of B14120054 복사본 16.npy: (64, 64, 64)\n",
      "Shape of C57289014 복사본 17.npy: (64, 64, 64)\n",
      "Shape of C57289014 복사본 16.npy: (64, 64, 64)\n",
      "Shape of B14120054 복사본 17.npy: (64, 64, 64)\n",
      "Shape of BD5312113A 복사본.npy: (64, 64, 64)\n",
      "Shape of BD5312113A 복사본 4.npy: (64, 64, 64)\n",
      "Shape of B14120054 복사본 13.npy: (64, 64, 64)\n",
      "Shape of C57289014 복사본 12.npy: (64, 64, 64)\n",
      "Shape of C57289014 복사본 13.npy: (64, 64, 64)\n",
      "Shape of B14120054 복사본 12.npy: (64, 64, 64)\n",
      "Shape of BD5312113A 복사본 5.npy: (64, 64, 64)\n",
      "Shape of LVZB011 복사본 8.npy: (64, 64, 64)\n",
      "Shape of BD5312113A 복사본 7.npy: (64, 64, 64)\n",
      "Shape of B14120054 복사본 10.npy: (64, 64, 64)\n",
      "Shape of C57289014 복사본 11.npy: (64, 64, 64)\n",
      "Shape of C57289014 복사본 10.npy: (64, 64, 64)\n",
      "Shape of B14120054 복사본 11.npy: (64, 64, 64)\n",
      "Shape of BD5312113A 복사본 6.npy: (64, 64, 64)\n",
      "Shape of LVZB011 복사본 9.npy: (64, 64, 64)\n",
      "Shape of B14120054 복사본.npy: (64, 64, 64)\n",
      "Shape of C57289014 복사본 2.npy: (64, 64, 64)\n",
      "Shape of B14120054 복사본 7.npy: (64, 64, 64)\n",
      "Shape of BD5312113A 복사본 17.npy: (64, 64, 64)\n",
      "Shape of LVZB011 복사본 21.npy: (64, 64, 64)\n",
      "Shape of LVZB011 복사본 20.npy: (64, 64, 64)\n",
      "Shape of BD5312113A 복사본 16.npy: (64, 64, 64)\n",
      "Shape of B14120054 복사본 6.npy: (64, 64, 64)\n",
      "Shape of C57289014 복사본 3.npy: (64, 64, 64)\n",
      "Shape of B14120054 복사본 4.npy: (64, 64, 64)\n",
      "Shape of BD5312113A 복사본 14.npy: (64, 64, 64)\n",
      "Shape of LVZB011 복사본 22.npy: (64, 64, 64)\n",
      "Shape of LVZB011 복사본 23.npy: (64, 64, 64)\n",
      "Shape of BD5312113A 복사본 15.npy: (64, 64, 64)\n",
      "Shape of B14120054 복사본 5.npy: (64, 64, 64)\n",
      "Shape of C57289014 복사본 4.npy: (64, 64, 64)\n",
      "Shape of BD5312113A 복사본 11.npy: (64, 64, 64)\n",
      "Shape of BD5312113A 복사본 10.npy: (64, 64, 64)\n",
      "Shape of C57289014 복사본 5.npy: (64, 64, 64)\n",
      "Shape of C57289014 복사본 7.npy: (64, 64, 64)\n",
      "Shape of B14120054 복사본 2.npy: (64, 64, 64)\n",
      "Shape of BD5312113A 복사본 12.npy: (64, 64, 64)\n",
      "Shape of LVZB011 복사본 18.npy: (64, 64, 64)\n",
      "Shape of LVZB011 복사본 24.npy: (64, 64, 64)\n",
      "Shape of LVZB011 복사본 25.npy: (64, 64, 64)\n",
      "Shape of LVZB011 복사본 19.npy: (64, 64, 64)\n",
      "Shape of BD5312113A 복사본 13.npy: (64, 64, 64)\n",
      "Shape of B14120054 복사본 3.npy: (64, 64, 64)\n",
      "Shape of C57289014 복사본 6.npy: (64, 64, 64)\n",
      "\n",
      "Total number of npy files: 104\n"
     ]
    }
   ],
   "source": [
    "npy_dir = 'npy_data'\n",
    "\n",
    "npy_count = 0\n",
    "\n",
    "for filename in os.listdir(npy_dir):\n",
    "    if filename.endswith('.npy'):\n",
    "        npy_count += 1\n",
    "        \n",
    "        # npy 파일 로드\n",
    "        npy_path = os.path.join(npy_dir, filename)\n",
    "        data = np.load(npy_path)\n",
    "        \n",
    "        # 파일이 너무 많은경우 아래 코드 주석처리 (저장된 npy 모양 출력확인용)\n",
    "        print(f'Shape of {filename}:', data.shape)\n",
    "\n",
    "# 총 npy 파일의 개수를 출력합니다.\n",
    "print('\\nTotal number of npy files:', npy_count)"
   ]
  },
  {
   "cell_type": "code",
   "execution_count": null,
   "metadata": {},
   "outputs": [],
   "source": []
  }
 ],
 "metadata": {
  "colab": {
   "authorship_tag": "ABX9TyN2uYDTy6UwiiDcJ/BHVFSY",
   "provenance": []
  },
  "kernelspec": {
   "display_name": "Python 3 (ipykernel)",
   "language": "python",
   "name": "python3"
  },
  "language_info": {
   "codemirror_mode": {
    "name": "ipython",
    "version": 3
   },
   "file_extension": ".py",
   "mimetype": "text/x-python",
   "name": "python",
   "nbconvert_exporter": "python",
   "pygments_lexer": "ipython3",
   "version": "3.10.11"
  }
 },
 "nbformat": 4,
 "nbformat_minor": 1
}
